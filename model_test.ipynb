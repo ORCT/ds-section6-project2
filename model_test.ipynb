{
 "cells": [
  {
   "cell_type": "code",
   "execution_count": 23,
   "metadata": {},
   "outputs": [],
   "source": [
    "import onnxruntime\n",
    "import test_setting\n",
    "import os\n",
    "import cv2\n",
    "import numpy as np"
   ]
  },
  {
   "cell_type": "code",
   "execution_count": 2,
   "metadata": {},
   "outputs": [],
   "source": [
    "session = onnxruntime.InferenceSession(test_setting.Feature.model_path)"
   ]
  },
  {
   "cell_type": "code",
   "execution_count": 4,
   "metadata": {},
   "outputs": [
    {
     "data": {
      "text/plain": [
       "['31815037_003.jpg',\n",
       " '33087952_001.jpg',\n",
       " '33116652_003.jpg',\n",
       " '33159365_003.jpg',\n",
       " '33271493_003.jpg',\n",
       " '33320338_003.jpg',\n",
       " '33339149_003.jpg',\n",
       " '33417039_003.jpg',\n",
       " '33450720_001.jpg',\n",
       " '33461930_003.jpg']"
      ]
     },
     "execution_count": 4,
     "metadata": {},
     "output_type": "execute_result"
    }
   ],
   "source": [
    "imgs = os.listdir(test_setting.Feature.img_path)\n",
    "imgs"
   ]
  },
  {
   "cell_type": "code",
   "execution_count": 7,
   "metadata": {},
   "outputs": [
    {
     "data": {
      "text/plain": [
       "'./reid_onnx_deploy/sample/31815037_003.jpg'"
      ]
     },
     "execution_count": 7,
     "metadata": {},
     "output_type": "execute_result"
    }
   ],
   "source": [
    "test_setting.Feature.img_path + '/' + imgs[0]"
   ]
  },
  {
   "cell_type": "code",
   "execution_count": 11,
   "metadata": {},
   "outputs": [
    {
     "data": {
      "text/plain": [
       "array([[[180, 178, 178],\n",
       "        [180, 178, 178],\n",
       "        [180, 178, 178],\n",
       "        ...,\n",
       "        [244, 240, 239],\n",
       "        [244, 240, 239],\n",
       "        [244, 240, 239]],\n",
       "\n",
       "       [[180, 178, 178],\n",
       "        [180, 178, 178],\n",
       "        [180, 178, 178],\n",
       "        ...,\n",
       "        [244, 240, 239],\n",
       "        [244, 240, 239],\n",
       "        [244, 240, 239]],\n",
       "\n",
       "       [[181, 179, 179],\n",
       "        [181, 179, 179],\n",
       "        [180, 178, 178],\n",
       "        ...,\n",
       "        [244, 240, 239],\n",
       "        [244, 240, 239],\n",
       "        [244, 240, 239]],\n",
       "\n",
       "       ...,\n",
       "\n",
       "       [[202, 200, 200],\n",
       "        [204, 202, 202],\n",
       "        [204, 202, 202],\n",
       "        ...,\n",
       "        [183, 180, 182],\n",
       "        [186, 183, 185],\n",
       "        [185, 182, 184]],\n",
       "\n",
       "       [[241, 239, 239],\n",
       "        [236, 234, 234],\n",
       "        [239, 237, 237],\n",
       "        ...,\n",
       "        [181, 178, 180],\n",
       "        [185, 182, 184],\n",
       "        [185, 182, 184]],\n",
       "\n",
       "       [[245, 243, 243],\n",
       "        [245, 243, 243],\n",
       "        [249, 247, 247],\n",
       "        ...,\n",
       "        [182, 179, 181],\n",
       "        [186, 183, 185],\n",
       "        [186, 183, 185]]], dtype=uint8)"
      ]
     },
     "execution_count": 11,
     "metadata": {},
     "output_type": "execute_result"
    }
   ],
   "source": [
    "cv2.imread(test_setting.Feature.img_path + '/' + imgs[0])"
   ]
  },
  {
   "cell_type": "code",
   "execution_count": 17,
   "metadata": {},
   "outputs": [
    {
     "data": {
      "text/plain": [
       "'batched_inputs.1'"
      ]
     },
     "execution_count": 17,
     "metadata": {},
     "output_type": "execute_result"
    }
   ],
   "source": [
    "session.get_inputs()[0].name"
   ]
  },
  {
   "cell_type": "code",
   "execution_count": 18,
   "metadata": {},
   "outputs": [
    {
     "data": {
      "text/plain": [
       "<onnxruntime.capi.onnxruntime_pybind11_state.NodeArg at 0x1e58bd97f70>"
      ]
     },
     "execution_count": 18,
     "metadata": {},
     "output_type": "execute_result"
    }
   ],
   "source": [
    "session.get_inputs()[0]"
   ]
  },
  {
   "cell_type": "code",
   "execution_count": 19,
   "metadata": {},
   "outputs": [
    {
     "data": {
      "text/plain": [
       "[<onnxruntime.capi.onnxruntime_pybind11_state.NodeArg at 0x1e58bd97f70>]"
      ]
     },
     "execution_count": 19,
     "metadata": {},
     "output_type": "execute_result"
    }
   ],
   "source": [
    "session.get_inputs()"
   ]
  },
  {
   "cell_type": "code",
   "execution_count": 21,
   "metadata": {},
   "outputs": [],
   "source": [
    "def preprocess(image_np):\n",
    "\n",
    "    # the model expects RGB inputs\n",
    "    original_image = image_np[:, :, ::-1]\n",
    "\n",
    "    # Apply pre-processing to image.\n",
    "    resize_width = test_setting.Feature.size[0]\n",
    "    resize_height = test_setting.Feature.size[1]\n",
    "    img = cv2.resize(original_image, (resize_width, resize_height), interpolation=cv2.INTER_CUBIC)\n",
    "    img = img.astype(\"float32\").transpose(2, 0, 1)[np.newaxis]  # (1, 3, h, w)\n",
    "    return img"
   ]
  },
  {
   "cell_type": "code",
   "execution_count": 24,
   "metadata": {},
   "outputs": [
    {
     "data": {
      "text/plain": [
       "[array([[-0.06067061, -0.4270882 ,  0.49558163, ..., -0.1635881 ,\n",
       "         -0.11166722, -0.7671006 ]], dtype=float32)]"
      ]
     },
     "execution_count": 24,
     "metadata": {},
     "output_type": "execute_result"
    }
   ],
   "source": [
    "img = cv2.imread(test_setting.Feature.img_path + '/' + imgs[0])\n",
    "img = preprocess(img)\n",
    "outputs = session.run(None, {session.get_inputs()[0].name : img})"
   ]
  },
  {
   "cell_type": "code",
   "execution_count": 25,
   "metadata": {},
   "outputs": [
    {
     "data": {
      "text/plain": [
       "[array([[-0.06067061, -0.4270882 ,  0.49558163, ..., -0.1635881 ,\n",
       "         -0.11166722, -0.7671006 ]], dtype=float32)]"
      ]
     },
     "execution_count": 25,
     "metadata": {},
     "output_type": "execute_result"
    }
   ],
   "source": [
    "outputs"
   ]
  },
  {
   "cell_type": "code",
   "execution_count": 27,
   "metadata": {},
   "outputs": [],
   "source": [
    "def calc_distance(feat1, feat2):\n",
    "    distance = np.linalg.norm(feat1 - feat2)\n",
    "    return distance"
   ]
  },
  {
   "cell_type": "code",
   "execution_count": null,
   "metadata": {},
   "outputs": [],
   "source": [
    "normalize(outputs, axis=1)"
   ]
  },
  {
   "cell_type": "code",
   "execution_count": 28,
   "metadata": {},
   "outputs": [
    {
     "ename": "TypeError",
     "evalue": "unsupported operand type(s) for -: 'list' and 'list'",
     "output_type": "error",
     "traceback": [
      "\u001b[1;31m---------------------------------------------------------------------------\u001b[0m",
      "\u001b[1;31mTypeError\u001b[0m                                 Traceback (most recent call last)",
      "Cell \u001b[1;32mIn[28], line 1\u001b[0m\n\u001b[1;32m----> 1\u001b[0m dist \u001b[38;5;241m=\u001b[39m \u001b[43mcalc_distance\u001b[49m\u001b[43m(\u001b[49m\u001b[43moutputs\u001b[49m\u001b[43m,\u001b[49m\u001b[43m \u001b[49m\u001b[43moutputs\u001b[49m\u001b[43m)\u001b[49m\n\u001b[0;32m      2\u001b[0m dist\n",
      "Cell \u001b[1;32mIn[27], line 2\u001b[0m, in \u001b[0;36mcalc_distance\u001b[1;34m(feat1, feat2)\u001b[0m\n\u001b[0;32m      1\u001b[0m \u001b[38;5;28;01mdef\u001b[39;00m \u001b[38;5;21mcalc_distance\u001b[39m(feat1, feat2):\n\u001b[1;32m----> 2\u001b[0m     distance \u001b[38;5;241m=\u001b[39m np\u001b[38;5;241m.\u001b[39mlinalg\u001b[38;5;241m.\u001b[39mnorm(\u001b[43mfeat1\u001b[49m\u001b[43m \u001b[49m\u001b[38;5;241;43m-\u001b[39;49m\u001b[43m \u001b[49m\u001b[43mfeat2\u001b[49m)\n\u001b[0;32m      3\u001b[0m     \u001b[38;5;28;01mreturn\u001b[39;00m distance\n",
      "\u001b[1;31mTypeError\u001b[0m: unsupported operand type(s) for -: 'list' and 'list'"
     ]
    }
   ],
   "source": [
    "dist = calc_distance(outputs, outputs)\n",
    "dist"
   ]
  }
 ],
 "metadata": {
  "kernelspec": {
   "display_name": "Python 3.8.16 ('pytorch')",
   "language": "python",
   "name": "python3"
  },
  "language_info": {
   "codemirror_mode": {
    "name": "ipython",
    "version": 3
   },
   "file_extension": ".py",
   "mimetype": "text/x-python",
   "name": "python",
   "nbconvert_exporter": "python",
   "pygments_lexer": "ipython3",
   "version": "3.8.16"
  },
  "orig_nbformat": 4,
  "vscode": {
   "interpreter": {
    "hash": "240bc028caeb8b02ff80d8aedfc61caf7a0e4db2770780d40c5b717508bae340"
   }
  }
 },
 "nbformat": 4,
 "nbformat_minor": 2
}
