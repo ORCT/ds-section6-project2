{
 "cells": [
  {
   "cell_type": "code",
   "execution_count": 1,
   "metadata": {},
   "outputs": [],
   "source": [
    "import pandas as pd\n",
    "import cv2\n",
    "import matplotlib.pyplot as plt\n",
    "import onnxruntime\n",
    "import numpy as np\n",
    "from reid_onnx_helper import ReidHelper\n",
    "import settings\n",
    "import os"
   ]
  },
  {
   "cell_type": "code",
   "execution_count": 2,
   "metadata": {},
   "outputs": [],
   "source": [
    "def calc_distance(feat1, feat2):\n",
    "    distance = np.linalg.norm(feat1 - feat2)\n",
    "    return distance"
   ]
  },
  {
   "cell_type": "code",
   "execution_count": 4,
   "metadata": {},
   "outputs": [],
   "source": [
    "def make_gallery(df, query_df, number=10):\n",
    "    gallery = df.sample(number)\n",
    "    tmp = df.loc[(df.car == query_df.iloc[0, 1]) & (df.year == query_df.iloc[0, 2]) & (df.color == query_df.iloc[0, 6])].sample()\n",
    "    gallery = pd.concat([gallery, tmp])\n",
    "    \n",
    "    return gallery"
   ]
  },
  {
   "cell_type": "code",
   "execution_count": 5,
   "metadata": {},
   "outputs": [],
   "source": [
    "def get_rank_group(query_df, gallery, rank=1):\n",
    "    file_dir = './crop/crop'\n",
    "    query_feat = helper.infer(cv2.imread(file_dir + f'/{query_df.index[0]}.png'))\n",
    "    distance = []\n",
    "    min_distance = 0\n",
    "    min_file = None\n",
    "    for i in gallery.index:\n",
    "        car_img = cv2.imread(file_dir + f'/{i}.png')\n",
    "        feat = helper.infer(car_img)\n",
    "        distance.append(calc_distance(query_feat, feat))\n",
    "    gallery['distance'] = distance\n",
    "    sorted_gallery = gallery.sort_values('distance')\n",
    "    \n",
    "    return sorted_gallery.iloc[:rank]"
   ]
  },
  {
   "cell_type": "code",
   "execution_count": 6,
   "metadata": {},
   "outputs": [],
   "source": [
    "def evaluate(df, reps=100):\n",
    "    cnt = 0\n",
    "    for _ in range(reps):\n",
    "        query_df = df.sample()\n",
    "        gallery = make_gallery(df, query_df)\n",
    "        rank_gallery = get_rank_group(query_df, gallery)\n",
    "        result = rank_gallery.loc[(rank_gallery.car == query_df.iloc[0, 1]) & (rank_gallery.year == query_df.iloc[0, 2]) & (rank_gallery.color == query_df.iloc[0, 6])]\n",
    "        if len(result) > 0:\n",
    "            cnt += 1\n",
    "    return cnt/reps"
   ]
  },
  {
   "cell_type": "code",
   "execution_count": 7,
   "metadata": {},
   "outputs": [
    {
     "name": "stdout",
     "output_type": "stream",
     "text": [
      "0.82\n"
     ]
    }
   ],
   "source": [
    "if __name__ == '__main__':\n",
    "    df = pd.read_csv('./crop/crop.csv', index_col=0)\n",
    "    helper = ReidHelper(settings.ReID)\n",
    "    result = evaluate(df, reps=100)\n",
    "    print(result)"
   ]
  },
  {
   "cell_type": "markdown",
   "metadata": {},
   "source": [
    "Rank 3\n",
    "\n",
    "vehicleid/ 3m39.9s/ 0.92\n",
    "\n",
    "veri/ 3m39.3s/ 0.93\n",
    "\n",
    "veriwild/ 13m2.6s/ 0.98\n",
    "\n",
    "Rank 1\n",
    "\n",
    "veri/ 56.6s/ 0.56\n",
    "\n",
    "vehicleid/ 3m39.4/ 0.72\n",
    "\n",
    "veriwild/ 12m59.6s/ 0.82"
   ]
  }
 ],
 "metadata": {
  "kernelspec": {
   "display_name": "Python 3.8.16 ('pytorch')",
   "language": "python",
   "name": "python3"
  },
  "language_info": {
   "codemirror_mode": {
    "name": "ipython",
    "version": 3
   },
   "file_extension": ".py",
   "mimetype": "text/x-python",
   "name": "python",
   "nbconvert_exporter": "python",
   "pygments_lexer": "ipython3",
   "version": "3.8.16"
  },
  "orig_nbformat": 4,
  "vscode": {
   "interpreter": {
    "hash": "240bc028caeb8b02ff80d8aedfc61caf7a0e4db2770780d40c5b717508bae340"
   }
  }
 },
 "nbformat": 4,
 "nbformat_minor": 2
}
